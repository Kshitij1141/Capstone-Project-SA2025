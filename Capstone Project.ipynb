{
  "nbformat": 4,
  "nbformat_minor": 0,
  "metadata": {
    "colab": {
      "provenance": []
    },
    "kernelspec": {
      "name": "python3",
      "display_name": "Python 3"
    },
    "language_info": {
      "name": "python"
    }
  },
  "cells": [
    {
      "cell_type": "code",
      "source": [
        "pip install pathway bokeh --quiet"
      ],
      "metadata": {
        "id": "kOENwvgZutqN"
      },
      "execution_count": 45,
      "outputs": []
    },
    {
      "cell_type": "code",
      "execution_count": 1,
      "metadata": {
        "id": "U9u7tZ3Cq7lg"
      },
      "outputs": [],
      "source": [
        "import pandas as pd\n",
        "import numpy as np\n",
        "import matplotlib.pyplot as plt"
      ]
    },
    {
      "cell_type": "code",
      "source": [
        "alpha = 2.5\n",
        "base_price = 10.0"
      ],
      "metadata": {
        "id": "CPY_xuxCrAGU"
      },
      "execution_count": 2,
      "outputs": []
    },
    {
      "cell_type": "code",
      "source": [
        "df = pd.read_csv(\"/content/dataset.csv\")\n",
        "df"
      ],
      "metadata": {
        "colab": {
          "base_uri": "https://localhost:8080/",
          "height": 439
        },
        "id": "NQMyIQylrAAT",
        "outputId": "11083e29-fe08-4d2c-9f30-b3e1cf258b2b"
      },
      "execution_count": 46,
      "outputs": [
        {
          "output_type": "execute_result",
          "data": {
            "text/plain": [
              "          ID SystemCodeNumber  Capacity   Latitude  Longitude  Occupancy  \\\n",
              "0          0      BHMBCCMKT01       577  26.144536  91.736172         61   \n",
              "1          1      BHMBCCMKT01       577  26.144536  91.736172         64   \n",
              "2          2      BHMBCCMKT01       577  26.144536  91.736172         80   \n",
              "3          3      BHMBCCMKT01       577  26.144536  91.736172        107   \n",
              "4          4      BHMBCCMKT01       577  26.144536  91.736172        150   \n",
              "...      ...              ...       ...        ...        ...        ...   \n",
              "18363  18363         Shopping      1920  26.150504  91.733531       1517   \n",
              "18364  18364         Shopping      1920  26.150504  91.733531       1487   \n",
              "18365  18365         Shopping      1920  26.150504  91.733531       1432   \n",
              "18366  18366         Shopping      1920  26.150504  91.733531       1321   \n",
              "18367  18367         Shopping      1920  26.150504  91.733531       1180   \n",
              "\n",
              "      VehicleType TrafficConditionNearby  QueueLength  IsSpecialDay  \\\n",
              "0             car                    low            1             0   \n",
              "1             car                    low            1             0   \n",
              "2             car                    low            2             0   \n",
              "3             car                    low            2             0   \n",
              "4            bike                    low            2             0   \n",
              "...           ...                    ...          ...           ...   \n",
              "18363       truck                average            6             0   \n",
              "18364         car                    low            3             0   \n",
              "18365       cycle                    low            3             0   \n",
              "18366         car                    low            2             0   \n",
              "18367         car                    low            2             0   \n",
              "\n",
              "      LastUpdatedDate LastUpdatedTime  \n",
              "0          04-10-2016        07:59:00  \n",
              "1          04-10-2016        08:25:00  \n",
              "2          04-10-2016        08:59:00  \n",
              "3          04-10-2016        09:32:00  \n",
              "4          04-10-2016        09:59:00  \n",
              "...               ...             ...  \n",
              "18363      19-12-2016        14:30:00  \n",
              "18364      19-12-2016        15:03:00  \n",
              "18365      19-12-2016        15:29:00  \n",
              "18366      19-12-2016        16:03:00  \n",
              "18367      19-12-2016        16:30:00  \n",
              "\n",
              "[18368 rows x 12 columns]"
            ],
            "text/html": [
              "\n",
              "  <div id=\"df-8dfa01af-fd44-417c-b968-457e4ce7b115\" class=\"colab-df-container\">\n",
              "    <div>\n",
              "<style scoped>\n",
              "    .dataframe tbody tr th:only-of-type {\n",
              "        vertical-align: middle;\n",
              "    }\n",
              "\n",
              "    .dataframe tbody tr th {\n",
              "        vertical-align: top;\n",
              "    }\n",
              "\n",
              "    .dataframe thead th {\n",
              "        text-align: right;\n",
              "    }\n",
              "</style>\n",
              "<table border=\"1\" class=\"dataframe\">\n",
              "  <thead>\n",
              "    <tr style=\"text-align: right;\">\n",
              "      <th></th>\n",
              "      <th>ID</th>\n",
              "      <th>SystemCodeNumber</th>\n",
              "      <th>Capacity</th>\n",
              "      <th>Latitude</th>\n",
              "      <th>Longitude</th>\n",
              "      <th>Occupancy</th>\n",
              "      <th>VehicleType</th>\n",
              "      <th>TrafficConditionNearby</th>\n",
              "      <th>QueueLength</th>\n",
              "      <th>IsSpecialDay</th>\n",
              "      <th>LastUpdatedDate</th>\n",
              "      <th>LastUpdatedTime</th>\n",
              "    </tr>\n",
              "  </thead>\n",
              "  <tbody>\n",
              "    <tr>\n",
              "      <th>0</th>\n",
              "      <td>0</td>\n",
              "      <td>BHMBCCMKT01</td>\n",
              "      <td>577</td>\n",
              "      <td>26.144536</td>\n",
              "      <td>91.736172</td>\n",
              "      <td>61</td>\n",
              "      <td>car</td>\n",
              "      <td>low</td>\n",
              "      <td>1</td>\n",
              "      <td>0</td>\n",
              "      <td>04-10-2016</td>\n",
              "      <td>07:59:00</td>\n",
              "    </tr>\n",
              "    <tr>\n",
              "      <th>1</th>\n",
              "      <td>1</td>\n",
              "      <td>BHMBCCMKT01</td>\n",
              "      <td>577</td>\n",
              "      <td>26.144536</td>\n",
              "      <td>91.736172</td>\n",
              "      <td>64</td>\n",
              "      <td>car</td>\n",
              "      <td>low</td>\n",
              "      <td>1</td>\n",
              "      <td>0</td>\n",
              "      <td>04-10-2016</td>\n",
              "      <td>08:25:00</td>\n",
              "    </tr>\n",
              "    <tr>\n",
              "      <th>2</th>\n",
              "      <td>2</td>\n",
              "      <td>BHMBCCMKT01</td>\n",
              "      <td>577</td>\n",
              "      <td>26.144536</td>\n",
              "      <td>91.736172</td>\n",
              "      <td>80</td>\n",
              "      <td>car</td>\n",
              "      <td>low</td>\n",
              "      <td>2</td>\n",
              "      <td>0</td>\n",
              "      <td>04-10-2016</td>\n",
              "      <td>08:59:00</td>\n",
              "    </tr>\n",
              "    <tr>\n",
              "      <th>3</th>\n",
              "      <td>3</td>\n",
              "      <td>BHMBCCMKT01</td>\n",
              "      <td>577</td>\n",
              "      <td>26.144536</td>\n",
              "      <td>91.736172</td>\n",
              "      <td>107</td>\n",
              "      <td>car</td>\n",
              "      <td>low</td>\n",
              "      <td>2</td>\n",
              "      <td>0</td>\n",
              "      <td>04-10-2016</td>\n",
              "      <td>09:32:00</td>\n",
              "    </tr>\n",
              "    <tr>\n",
              "      <th>4</th>\n",
              "      <td>4</td>\n",
              "      <td>BHMBCCMKT01</td>\n",
              "      <td>577</td>\n",
              "      <td>26.144536</td>\n",
              "      <td>91.736172</td>\n",
              "      <td>150</td>\n",
              "      <td>bike</td>\n",
              "      <td>low</td>\n",
              "      <td>2</td>\n",
              "      <td>0</td>\n",
              "      <td>04-10-2016</td>\n",
              "      <td>09:59:00</td>\n",
              "    </tr>\n",
              "    <tr>\n",
              "      <th>...</th>\n",
              "      <td>...</td>\n",
              "      <td>...</td>\n",
              "      <td>...</td>\n",
              "      <td>...</td>\n",
              "      <td>...</td>\n",
              "      <td>...</td>\n",
              "      <td>...</td>\n",
              "      <td>...</td>\n",
              "      <td>...</td>\n",
              "      <td>...</td>\n",
              "      <td>...</td>\n",
              "      <td>...</td>\n",
              "    </tr>\n",
              "    <tr>\n",
              "      <th>18363</th>\n",
              "      <td>18363</td>\n",
              "      <td>Shopping</td>\n",
              "      <td>1920</td>\n",
              "      <td>26.150504</td>\n",
              "      <td>91.733531</td>\n",
              "      <td>1517</td>\n",
              "      <td>truck</td>\n",
              "      <td>average</td>\n",
              "      <td>6</td>\n",
              "      <td>0</td>\n",
              "      <td>19-12-2016</td>\n",
              "      <td>14:30:00</td>\n",
              "    </tr>\n",
              "    <tr>\n",
              "      <th>18364</th>\n",
              "      <td>18364</td>\n",
              "      <td>Shopping</td>\n",
              "      <td>1920</td>\n",
              "      <td>26.150504</td>\n",
              "      <td>91.733531</td>\n",
              "      <td>1487</td>\n",
              "      <td>car</td>\n",
              "      <td>low</td>\n",
              "      <td>3</td>\n",
              "      <td>0</td>\n",
              "      <td>19-12-2016</td>\n",
              "      <td>15:03:00</td>\n",
              "    </tr>\n",
              "    <tr>\n",
              "      <th>18365</th>\n",
              "      <td>18365</td>\n",
              "      <td>Shopping</td>\n",
              "      <td>1920</td>\n",
              "      <td>26.150504</td>\n",
              "      <td>91.733531</td>\n",
              "      <td>1432</td>\n",
              "      <td>cycle</td>\n",
              "      <td>low</td>\n",
              "      <td>3</td>\n",
              "      <td>0</td>\n",
              "      <td>19-12-2016</td>\n",
              "      <td>15:29:00</td>\n",
              "    </tr>\n",
              "    <tr>\n",
              "      <th>18366</th>\n",
              "      <td>18366</td>\n",
              "      <td>Shopping</td>\n",
              "      <td>1920</td>\n",
              "      <td>26.150504</td>\n",
              "      <td>91.733531</td>\n",
              "      <td>1321</td>\n",
              "      <td>car</td>\n",
              "      <td>low</td>\n",
              "      <td>2</td>\n",
              "      <td>0</td>\n",
              "      <td>19-12-2016</td>\n",
              "      <td>16:03:00</td>\n",
              "    </tr>\n",
              "    <tr>\n",
              "      <th>18367</th>\n",
              "      <td>18367</td>\n",
              "      <td>Shopping</td>\n",
              "      <td>1920</td>\n",
              "      <td>26.150504</td>\n",
              "      <td>91.733531</td>\n",
              "      <td>1180</td>\n",
              "      <td>car</td>\n",
              "      <td>low</td>\n",
              "      <td>2</td>\n",
              "      <td>0</td>\n",
              "      <td>19-12-2016</td>\n",
              "      <td>16:30:00</td>\n",
              "    </tr>\n",
              "  </tbody>\n",
              "</table>\n",
              "<p>18368 rows × 12 columns</p>\n",
              "</div>\n",
              "    <div class=\"colab-df-buttons\">\n",
              "\n",
              "  <div class=\"colab-df-container\">\n",
              "    <button class=\"colab-df-convert\" onclick=\"convertToInteractive('df-8dfa01af-fd44-417c-b968-457e4ce7b115')\"\n",
              "            title=\"Convert this dataframe to an interactive table.\"\n",
              "            style=\"display:none;\">\n",
              "\n",
              "  <svg xmlns=\"http://www.w3.org/2000/svg\" height=\"24px\" viewBox=\"0 -960 960 960\">\n",
              "    <path d=\"M120-120v-720h720v720H120Zm60-500h600v-160H180v160Zm220 220h160v-160H400v160Zm0 220h160v-160H400v160ZM180-400h160v-160H180v160Zm440 0h160v-160H620v160ZM180-180h160v-160H180v160Zm440 0h160v-160H620v160Z\"/>\n",
              "  </svg>\n",
              "    </button>\n",
              "\n",
              "  <style>\n",
              "    .colab-df-container {\n",
              "      display:flex;\n",
              "      gap: 12px;\n",
              "    }\n",
              "\n",
              "    .colab-df-convert {\n",
              "      background-color: #E8F0FE;\n",
              "      border: none;\n",
              "      border-radius: 50%;\n",
              "      cursor: pointer;\n",
              "      display: none;\n",
              "      fill: #1967D2;\n",
              "      height: 32px;\n",
              "      padding: 0 0 0 0;\n",
              "      width: 32px;\n",
              "    }\n",
              "\n",
              "    .colab-df-convert:hover {\n",
              "      background-color: #E2EBFA;\n",
              "      box-shadow: 0px 1px 2px rgba(60, 64, 67, 0.3), 0px 1px 3px 1px rgba(60, 64, 67, 0.15);\n",
              "      fill: #174EA6;\n",
              "    }\n",
              "\n",
              "    .colab-df-buttons div {\n",
              "      margin-bottom: 4px;\n",
              "    }\n",
              "\n",
              "    [theme=dark] .colab-df-convert {\n",
              "      background-color: #3B4455;\n",
              "      fill: #D2E3FC;\n",
              "    }\n",
              "\n",
              "    [theme=dark] .colab-df-convert:hover {\n",
              "      background-color: #434B5C;\n",
              "      box-shadow: 0px 1px 3px 1px rgba(0, 0, 0, 0.15);\n",
              "      filter: drop-shadow(0px 1px 2px rgba(0, 0, 0, 0.3));\n",
              "      fill: #FFFFFF;\n",
              "    }\n",
              "  </style>\n",
              "\n",
              "    <script>\n",
              "      const buttonEl =\n",
              "        document.querySelector('#df-8dfa01af-fd44-417c-b968-457e4ce7b115 button.colab-df-convert');\n",
              "      buttonEl.style.display =\n",
              "        google.colab.kernel.accessAllowed ? 'block' : 'none';\n",
              "\n",
              "      async function convertToInteractive(key) {\n",
              "        const element = document.querySelector('#df-8dfa01af-fd44-417c-b968-457e4ce7b115');\n",
              "        const dataTable =\n",
              "          await google.colab.kernel.invokeFunction('convertToInteractive',\n",
              "                                                    [key], {});\n",
              "        if (!dataTable) return;\n",
              "\n",
              "        const docLinkHtml = 'Like what you see? Visit the ' +\n",
              "          '<a target=\"_blank\" href=https://colab.research.google.com/notebooks/data_table.ipynb>data table notebook</a>'\n",
              "          + ' to learn more about interactive tables.';\n",
              "        element.innerHTML = '';\n",
              "        dataTable['output_type'] = 'display_data';\n",
              "        await google.colab.output.renderOutput(dataTable, element);\n",
              "        const docLink = document.createElement('div');\n",
              "        docLink.innerHTML = docLinkHtml;\n",
              "        element.appendChild(docLink);\n",
              "      }\n",
              "    </script>\n",
              "  </div>\n",
              "\n",
              "\n",
              "    <div id=\"df-e1b9a151-9282-4d39-b92d-2fe770e85290\">\n",
              "      <button class=\"colab-df-quickchart\" onclick=\"quickchart('df-e1b9a151-9282-4d39-b92d-2fe770e85290')\"\n",
              "                title=\"Suggest charts\"\n",
              "                style=\"display:none;\">\n",
              "\n",
              "<svg xmlns=\"http://www.w3.org/2000/svg\" height=\"24px\"viewBox=\"0 0 24 24\"\n",
              "     width=\"24px\">\n",
              "    <g>\n",
              "        <path d=\"M19 3H5c-1.1 0-2 .9-2 2v14c0 1.1.9 2 2 2h14c1.1 0 2-.9 2-2V5c0-1.1-.9-2-2-2zM9 17H7v-7h2v7zm4 0h-2V7h2v10zm4 0h-2v-4h2v4z\"/>\n",
              "    </g>\n",
              "</svg>\n",
              "      </button>\n",
              "\n",
              "<style>\n",
              "  .colab-df-quickchart {\n",
              "      --bg-color: #E8F0FE;\n",
              "      --fill-color: #1967D2;\n",
              "      --hover-bg-color: #E2EBFA;\n",
              "      --hover-fill-color: #174EA6;\n",
              "      --disabled-fill-color: #AAA;\n",
              "      --disabled-bg-color: #DDD;\n",
              "  }\n",
              "\n",
              "  [theme=dark] .colab-df-quickchart {\n",
              "      --bg-color: #3B4455;\n",
              "      --fill-color: #D2E3FC;\n",
              "      --hover-bg-color: #434B5C;\n",
              "      --hover-fill-color: #FFFFFF;\n",
              "      --disabled-bg-color: #3B4455;\n",
              "      --disabled-fill-color: #666;\n",
              "  }\n",
              "\n",
              "  .colab-df-quickchart {\n",
              "    background-color: var(--bg-color);\n",
              "    border: none;\n",
              "    border-radius: 50%;\n",
              "    cursor: pointer;\n",
              "    display: none;\n",
              "    fill: var(--fill-color);\n",
              "    height: 32px;\n",
              "    padding: 0;\n",
              "    width: 32px;\n",
              "  }\n",
              "\n",
              "  .colab-df-quickchart:hover {\n",
              "    background-color: var(--hover-bg-color);\n",
              "    box-shadow: 0 1px 2px rgba(60, 64, 67, 0.3), 0 1px 3px 1px rgba(60, 64, 67, 0.15);\n",
              "    fill: var(--button-hover-fill-color);\n",
              "  }\n",
              "\n",
              "  .colab-df-quickchart-complete:disabled,\n",
              "  .colab-df-quickchart-complete:disabled:hover {\n",
              "    background-color: var(--disabled-bg-color);\n",
              "    fill: var(--disabled-fill-color);\n",
              "    box-shadow: none;\n",
              "  }\n",
              "\n",
              "  .colab-df-spinner {\n",
              "    border: 2px solid var(--fill-color);\n",
              "    border-color: transparent;\n",
              "    border-bottom-color: var(--fill-color);\n",
              "    animation:\n",
              "      spin 1s steps(1) infinite;\n",
              "  }\n",
              "\n",
              "  @keyframes spin {\n",
              "    0% {\n",
              "      border-color: transparent;\n",
              "      border-bottom-color: var(--fill-color);\n",
              "      border-left-color: var(--fill-color);\n",
              "    }\n",
              "    20% {\n",
              "      border-color: transparent;\n",
              "      border-left-color: var(--fill-color);\n",
              "      border-top-color: var(--fill-color);\n",
              "    }\n",
              "    30% {\n",
              "      border-color: transparent;\n",
              "      border-left-color: var(--fill-color);\n",
              "      border-top-color: var(--fill-color);\n",
              "      border-right-color: var(--fill-color);\n",
              "    }\n",
              "    40% {\n",
              "      border-color: transparent;\n",
              "      border-right-color: var(--fill-color);\n",
              "      border-top-color: var(--fill-color);\n",
              "    }\n",
              "    60% {\n",
              "      border-color: transparent;\n",
              "      border-right-color: var(--fill-color);\n",
              "    }\n",
              "    80% {\n",
              "      border-color: transparent;\n",
              "      border-right-color: var(--fill-color);\n",
              "      border-bottom-color: var(--fill-color);\n",
              "    }\n",
              "    90% {\n",
              "      border-color: transparent;\n",
              "      border-bottom-color: var(--fill-color);\n",
              "    }\n",
              "  }\n",
              "</style>\n",
              "\n",
              "      <script>\n",
              "        async function quickchart(key) {\n",
              "          const quickchartButtonEl =\n",
              "            document.querySelector('#' + key + ' button');\n",
              "          quickchartButtonEl.disabled = true;  // To prevent multiple clicks.\n",
              "          quickchartButtonEl.classList.add('colab-df-spinner');\n",
              "          try {\n",
              "            const charts = await google.colab.kernel.invokeFunction(\n",
              "                'suggestCharts', [key], {});\n",
              "          } catch (error) {\n",
              "            console.error('Error during call to suggestCharts:', error);\n",
              "          }\n",
              "          quickchartButtonEl.classList.remove('colab-df-spinner');\n",
              "          quickchartButtonEl.classList.add('colab-df-quickchart-complete');\n",
              "        }\n",
              "        (() => {\n",
              "          let quickchartButtonEl =\n",
              "            document.querySelector('#df-e1b9a151-9282-4d39-b92d-2fe770e85290 button');\n",
              "          quickchartButtonEl.style.display =\n",
              "            google.colab.kernel.accessAllowed ? 'block' : 'none';\n",
              "        })();\n",
              "      </script>\n",
              "    </div>\n",
              "\n",
              "  <div id=\"id_26eff4f7-87e4-41bd-86a7-d5f7da6a532b\">\n",
              "    <style>\n",
              "      .colab-df-generate {\n",
              "        background-color: #E8F0FE;\n",
              "        border: none;\n",
              "        border-radius: 50%;\n",
              "        cursor: pointer;\n",
              "        display: none;\n",
              "        fill: #1967D2;\n",
              "        height: 32px;\n",
              "        padding: 0 0 0 0;\n",
              "        width: 32px;\n",
              "      }\n",
              "\n",
              "      .colab-df-generate:hover {\n",
              "        background-color: #E2EBFA;\n",
              "        box-shadow: 0px 1px 2px rgba(60, 64, 67, 0.3), 0px 1px 3px 1px rgba(60, 64, 67, 0.15);\n",
              "        fill: #174EA6;\n",
              "      }\n",
              "\n",
              "      [theme=dark] .colab-df-generate {\n",
              "        background-color: #3B4455;\n",
              "        fill: #D2E3FC;\n",
              "      }\n",
              "\n",
              "      [theme=dark] .colab-df-generate:hover {\n",
              "        background-color: #434B5C;\n",
              "        box-shadow: 0px 1px 3px 1px rgba(0, 0, 0, 0.15);\n",
              "        filter: drop-shadow(0px 1px 2px rgba(0, 0, 0, 0.3));\n",
              "        fill: #FFFFFF;\n",
              "      }\n",
              "    </style>\n",
              "    <button class=\"colab-df-generate\" onclick=\"generateWithVariable('df')\"\n",
              "            title=\"Generate code using this dataframe.\"\n",
              "            style=\"display:none;\">\n",
              "\n",
              "  <svg xmlns=\"http://www.w3.org/2000/svg\" height=\"24px\"viewBox=\"0 0 24 24\"\n",
              "       width=\"24px\">\n",
              "    <path d=\"M7,19H8.4L18.45,9,17,7.55,7,17.6ZM5,21V16.75L18.45,3.32a2,2,0,0,1,2.83,0l1.4,1.43a1.91,1.91,0,0,1,.58,1.4,1.91,1.91,0,0,1-.58,1.4L9.25,21ZM18.45,9,17,7.55Zm-12,3A5.31,5.31,0,0,0,4.9,8.1,5.31,5.31,0,0,0,1,6.5,5.31,5.31,0,0,0,4.9,4.9,5.31,5.31,0,0,0,6.5,1,5.31,5.31,0,0,0,8.1,4.9,5.31,5.31,0,0,0,12,6.5,5.46,5.46,0,0,0,6.5,12Z\"/>\n",
              "  </svg>\n",
              "    </button>\n",
              "    <script>\n",
              "      (() => {\n",
              "      const buttonEl =\n",
              "        document.querySelector('#id_26eff4f7-87e4-41bd-86a7-d5f7da6a532b button.colab-df-generate');\n",
              "      buttonEl.style.display =\n",
              "        google.colab.kernel.accessAllowed ? 'block' : 'none';\n",
              "\n",
              "      buttonEl.onclick = () => {\n",
              "        google.colab.notebook.generateWithVariable('df');\n",
              "      }\n",
              "      })();\n",
              "    </script>\n",
              "  </div>\n",
              "\n",
              "    </div>\n",
              "  </div>\n"
            ],
            "application/vnd.google.colaboratory.intrinsic+json": {
              "type": "dataframe",
              "variable_name": "df",
              "summary": "{\n  \"name\": \"df\",\n  \"rows\": 18368,\n  \"fields\": [\n    {\n      \"column\": \"ID\",\n      \"properties\": {\n        \"dtype\": \"number\",\n        \"std\": 5302,\n        \"min\": 0,\n        \"max\": 18367,\n        \"num_unique_values\": 18368,\n        \"samples\": [\n          5199,\n          3997,\n          7841\n        ],\n        \"semantic_type\": \"\",\n        \"description\": \"\"\n      }\n    },\n    {\n      \"column\": \"SystemCodeNumber\",\n      \"properties\": {\n        \"dtype\": \"category\",\n        \"num_unique_values\": 14,\n        \"samples\": [\n          \"Others-CCCPS135a\",\n          \"Others-CCCPS8\",\n          \"BHMBCCMKT01\"\n        ],\n        \"semantic_type\": \"\",\n        \"description\": \"\"\n      }\n    },\n    {\n      \"column\": \"Capacity\",\n      \"properties\": {\n        \"dtype\": \"number\",\n        \"std\": 1131,\n        \"min\": 387,\n        \"max\": 3883,\n        \"num_unique_values\": 14,\n        \"samples\": [\n          3883,\n          1322,\n          577\n        ],\n        \"semantic_type\": \"\",\n        \"description\": \"\"\n      }\n    },\n    {\n      \"column\": \"Latitude\",\n      \"properties\": {\n        \"dtype\": \"number\",\n        \"std\": 1.5827489565711728,\n        \"min\": 20.0000347,\n        \"max\": 26.15050395,\n        \"num_unique_values\": 14,\n        \"samples\": [\n          26.14749943,\n          26.14754886,\n          26.14453614\n        ],\n        \"semantic_type\": \"\",\n        \"description\": \"\"\n      }\n    },\n    {\n      \"column\": \"Longitude\",\n      \"properties\": {\n        \"dtype\": \"number\",\n        \"std\": 3.53663639500594,\n        \"min\": 78.00000286,\n        \"max\": 91.74099445,\n        \"num_unique_values\": 14,\n        \"samples\": [\n          91.72800489,\n          91.72799519,\n          91.73617216\n        ],\n        \"semantic_type\": \"\",\n        \"description\": \"\"\n      }\n    },\n    {\n      \"column\": \"Occupancy\",\n      \"properties\": {\n        \"dtype\": \"number\",\n        \"std\": 621,\n        \"min\": 2,\n        \"max\": 3499,\n        \"num_unique_values\": 2347,\n        \"samples\": [\n          1082,\n          621,\n          2641\n        ],\n        \"semantic_type\": \"\",\n        \"description\": \"\"\n      }\n    },\n    {\n      \"column\": \"VehicleType\",\n      \"properties\": {\n        \"dtype\": \"category\",\n        \"num_unique_values\": 4,\n        \"samples\": [\n          \"bike\",\n          \"cycle\",\n          \"car\"\n        ],\n        \"semantic_type\": \"\",\n        \"description\": \"\"\n      }\n    },\n    {\n      \"column\": \"TrafficConditionNearby\",\n      \"properties\": {\n        \"dtype\": \"category\",\n        \"num_unique_values\": 3,\n        \"samples\": [\n          \"low\",\n          \"high\",\n          \"average\"\n        ],\n        \"semantic_type\": \"\",\n        \"description\": \"\"\n      }\n    },\n    {\n      \"column\": \"QueueLength\",\n      \"properties\": {\n        \"dtype\": \"number\",\n        \"std\": 2,\n        \"min\": 0,\n        \"max\": 15,\n        \"num_unique_values\": 16,\n        \"samples\": [\n          1,\n          2,\n          8\n        ],\n        \"semantic_type\": \"\",\n        \"description\": \"\"\n      }\n    },\n    {\n      \"column\": \"IsSpecialDay\",\n      \"properties\": {\n        \"dtype\": \"number\",\n        \"std\": 0,\n        \"min\": 0,\n        \"max\": 1,\n        \"num_unique_values\": 2,\n        \"samples\": [\n          1,\n          0\n        ],\n        \"semantic_type\": \"\",\n        \"description\": \"\"\n      }\n    },\n    {\n      \"column\": \"LastUpdatedDate\",\n      \"properties\": {\n        \"dtype\": \"category\",\n        \"num_unique_values\": 73,\n        \"samples\": [\n          \"08-10-2016\",\n          \"10-12-2016\"\n        ],\n        \"semantic_type\": \"\",\n        \"description\": \"\"\n      }\n    },\n    {\n      \"column\": \"LastUpdatedTime\",\n      \"properties\": {\n        \"dtype\": \"object\",\n        \"num_unique_values\": 275,\n        \"samples\": [\n          \"13:57:00\",\n          \"08:32:00\"\n        ],\n        \"semantic_type\": \"\",\n        \"description\": \"\"\n      }\n    }\n  ]\n}"
            }
          },
          "metadata": {},
          "execution_count": 46
        }
      ]
    },
    {
      "cell_type": "code",
      "source": [
        "df['price'] = base_price"
      ],
      "metadata": {
        "id": "V1FYlqVIq_3t"
      },
      "execution_count": 6,
      "outputs": []
    },
    {
      "cell_type": "code",
      "source": [
        "new_prices = []"
      ],
      "metadata": {
        "id": "HDVK4K1Hq_0V"
      },
      "execution_count": 7,
      "outputs": []
    },
    {
      "cell_type": "code",
      "source": [
        "for lot_id, group in df.groupby('ID'):\n",
        "    price = base_price\n",
        "    prices = []\n",
        "    for _, row in group.iterrows():\n",
        "        occ = row['Occupancy']\n",
        "        cap = row['Capacity']\n",
        "        utilization = occ / cap if cap > 0 else 0\n",
        "        price = price + alpha * utilization\n",
        "        price = max(5, min(30, price))\n",
        "        prices.append(price)\n",
        "    new_prices.extend(prices)"
      ],
      "metadata": {
        "id": "KdUgSfnXq_v6"
      },
      "execution_count": 8,
      "outputs": []
    },
    {
      "cell_type": "code",
      "source": [
        "df['Model1_Price'] = new_prices"
      ],
      "metadata": {
        "id": "r-uDauRvq_sB"
      },
      "execution_count": 9,
      "outputs": []
    },
    {
      "cell_type": "code",
      "source": [
        "import seaborn as sns\n",
        "plt.figure(figsize=(12, 5))\n",
        "sample_lot = df[df['ID'] == df['ID'].unique()[0]]\n",
        "plt.title(f\"Price over time for Lot ID {sample_lot['ID'].iloc[0]}\")\n",
        "plt.xlabel(\"Timestamp\")\n",
        "plt.ylabel(\"Price\")\n",
        "plt.xticks(rotation=45)\n",
        "plt.grid(True)\n",
        "plt.tight_layout()\n",
        "plt.show()"
      ],
      "metadata": {
        "colab": {
          "base_uri": "https://localhost:8080/",
          "height": 435
        },
        "id": "5TAG3Ta_q_m0",
        "outputId": "83d4789d-680c-4525-9b5f-c14c1152f7f7"
      },
      "execution_count": 11,
      "outputs": [
        {
          "output_type": "display_data",
          "data": {
            "text/plain": [
              "<Figure size 1200x500 with 1 Axes>"
            ],
            "image/png": "[encoded data removed]"
          },
          "metadata": {}
        }
      ]
    },
    {
      "cell_type": "code",
      "source": [
        "import pandas as pd\n",
        "import numpy as np\n",
        "import matplotlib.pyplot as plt\n",
        "cols_to_convert = ['Occupancy', 'Capacity', 'QueueLength', 'TrafficConditionNearby', 'IsSpecialDay']\n",
        "for col in cols_to_convert:\n",
        "    df[col] = pd.to_numeric(df[col], errors='coerce')\n",
        "vehicle_type_map = {'car': 1.0, 'bike': 0.7, 'truck': 1.3}\n",
        "df['VehicleTypeWeight'] = df['VehicleType'].map(vehicle_type_map).fillna(1.0)"
      ],
      "metadata": {
        "id": "EW_NCeuNq_h6"
      },
      "execution_count": 15,
      "outputs": []
    },
    {
      "cell_type": "code",
      "source": [
        "vehicle_weights = {'car': 1.0, 'bike': 0.7, 'truck': 1.5}\n",
        "df['VehicleTypeWeight'] = df['VehicleType'].map(vehicle_weights)"
      ],
      "metadata": {
        "id": "mlIYzaQ7sfYC"
      },
      "execution_count": 17,
      "outputs": []
    },
    {
      "cell_type": "code",
      "source": [
        "df['VehicleTypeWeight'] = df['VehicleTypeWeight'].fillna(1.0)"
      ],
      "metadata": {
        "id": "zmI9_krlsfTC"
      },
      "execution_count": 18,
      "outputs": []
    },
    {
      "cell_type": "code",
      "source": [
        "df['OccupancyRate'] = df['Occupancy'] / df['Capacity']\n",
        "df['TrafficNormalized'] = df['TrafficConditionNearby'] / df['TrafficConditionNearby'].max()\n",
        "df['QueueNormalized'] = df['QueueLength'] / df['QueueLength'].max()"
      ],
      "metadata": {
        "id": "iBKTM5ZNsyaT"
      },
      "execution_count": 19,
      "outputs": []
    },
    {
      "cell_type": "code",
      "source": [
        "alpha = 1.5\n",
        "beta = 0.8\n",
        "gamma = 0.5\n",
        "delta = 0.9\n",
        "epsilon = 1.2\n",
        "lambda_factor = 0.6\n",
        "base_price = 10"
      ],
      "metadata": {
        "id": "A28DXMM9sfLg"
      },
      "execution_count": 20,
      "outputs": []
    },
    {
      "cell_type": "code",
      "source": [
        "df['RawDemand'] = (\n",
        "    alpha * df['OccupancyRate'] +\n",
        "    beta * df['QueueNormalized'] -\n",
        "    gamma * df['TrafficNormalized'] +\n",
        "    delta * df['IsSpecialDay'] +\n",
        "    epsilon * df['VehicleTypeWeight']\n",
        ")"
      ],
      "metadata": {
        "id": "fnZeiOsBsfH3"
      },
      "execution_count": 21,
      "outputs": []
    },
    {
      "cell_type": "code",
      "source": [
        "df['NormalizedDemand'] = (df['RawDemand'] - df['RawDemand'].min()) / (df['RawDemand'].max() - df['RawDemand'].min())\n",
        "\n"
      ],
      "metadata": {
        "id": "w_337LiIs76p"
      },
      "execution_count": 22,
      "outputs": []
    },
    {
      "cell_type": "code",
      "source": [
        "df['Model2_Price'] = base_price * (1 + lambda_factor * df['NormalizedDemand'])\n",
        "df['Model2_Price'] = df['Model2_Price'].clip(lower=5, upper=20)"
      ],
      "metadata": {
        "id": "E9c4nr3_s71r"
      },
      "execution_count": 23,
      "outputs": []
    },
    {
      "cell_type": "code",
      "source": [
        "import seaborn as sns\n",
        "plt.figure(figsize=(12, 5))\n",
        "sample_lot = df[df['ID'] == df['ID'].unique()[0]]\n",
        "plt.title(f\"Model 2: Demand-Based Pricing for Lot ID {sample_lot['ID'].iloc[0]}\")\n",
        "plt.xlabel(\"Timestamp\")\n",
        "plt.ylabel(\"Dynamic Price ($)\")\n",
        "plt.xticks(rotation=45)\n",
        "plt.grid(True)\n",
        "plt.tight_layout()\n",
        "plt.show()"
      ],
      "metadata": {
        "colab": {
          "base_uri": "https://localhost:8080/",
          "height": 435
        },
        "id": "cv35k_dHs7yV",
        "outputId": "a9343dab-5188-48c5-f27f-ece976ed84a4"
      },
      "execution_count": 25,
      "outputs": [
        {
          "output_type": "display_data",
          "data": {
            "text/plain": [
              "<Figure size 1200x500 with 1 Axes>"
            ],
            "image/png": "[encoded data removed]"
          },
          "metadata": {}
        }
      ]
    },
    {
      "cell_type": "code",
      "source": [
        "import numpy as np"
      ],
      "metadata": {
        "id": "H2rzVCfbs7ri"
      },
      "execution_count": 26,
      "outputs": []
    },
    {
      "cell_type": "code",
      "source": [
        "def haversine(lat1, lon1, lat2, lon2):\n",
        "    R = 6371  # Earth radius\n",
        "    phi1, phi2 = np.radians(lat1), np.radians(lat2)\n",
        "    delta_phi = np.radians(lat2 - lat1)\n",
        "    delta_lambda = np.radians(lon2 - lon1)\n",
        "    a = np.sin(delta_phi / 2.0)**2 + np.cos(phi1) * np.cos(phi2) * np.sin(delta_lambda / 2.0)**2\n",
        "    return R * 2 * np.arcsin(np.sqrt(a))"
      ],
      "metadata": {
        "id": "jGt_TJUWs7n9"
      },
      "execution_count": 27,
      "outputs": []
    },
    {
      "cell_type": "code",
      "source": [
        "parking_lots = df['ID'].unique()\n",
        "base_price = 10\n",
        "lambda_val = 0.25"
      ],
      "metadata": {
        "id": "nJ_5in-VtQnL"
      },
      "execution_count": 28,
      "outputs": []
    },
    {
      "cell_type": "code",
      "source": [
        "import matplotlib.pyplot as plt\n",
        "lot_id = df['ID'].unique()[0]  # or any specific parking lot ID\n",
        "lot_data = df[df['ID'] == lot_id]\n",
        "plt.figure(figsize=(12, 6))\n",
        "plt.xlabel('Time')\n",
        "plt.ylabel('Price')\n",
        "plt.title(f'Parking Lot ID {lot_id} - Price Comparison')\n",
        "plt.legend()\n",
        "plt.grid(True)\n",
        "plt.xticks(rotation=45)\n",
        "plt.tight_layout()\n",
        "plt.show()"
      ],
      "metadata": {
        "colab": {
          "base_uri": "https://localhost:8080/",
          "height": 575
        },
        "id": "yG-3fK1rtQf5",
        "outputId": "ad648f8b-4d6f-49a5-e6bc-638a088a08f0"
      },
      "execution_count": 41,
      "outputs": [
        {
          "output_type": "stream",
          "name": "stderr",
          "text": [
            "/tmp/ipython-input-41-4066487781.py:8: UserWarning: No artists with labels found to put in legend.  Note that artists whose label start with an underscore are ignored when legend() is called with no argument.\n",
            "  plt.legend()\n"
          ]
        },
        {
          "output_type": "display_data",
          "data": {
            "text/plain": [
              "<Figure size 1200x600 with 1 Axes>"
            ],
            "image/png": "[encoded data removed]"
          },
          "metadata": {}
        }
      ]
    },
    {
      "cell_type": "code",
      "source": [
        "df.columns"
      ],
      "metadata": {
        "colab": {
          "base_uri": "https://localhost:8080/"
        },
        "id": "UFbfD9QBtQbB",
        "outputId": "e1d44b37-a9a9-4336-c5a5-90929f0625b7"
      },
      "execution_count": 42,
      "outputs": [
        {
          "output_type": "execute_result",
          "data": {
            "text/plain": [
              "Index(['ID', 'SystemCodeNumber', 'Capacity', 'Latitude', 'Longitude',\n",
              "       'Occupancy', 'VehicleType', 'TrafficConditionNearby', 'QueueLength',\n",
              "       'IsSpecialDay', 'LastUpdatedDate', 'LastUpdatedTime',\n",
              "       'VehicleTypeWeight', 'OccupancyRate', 'TrafficNormalized',\n",
              "       'QueueNormalized', 'RawDemand', 'NormalizedDemand', 'Model2_Price',\n",
              "       'comp_price'],\n",
              "      dtype='object')"
            ]
          },
          "metadata": {},
          "execution_count": 42
        }
      ]
    },
    {
      "cell_type": "code",
      "source": [],
      "metadata": {
        "id": "iBVoR1kyvP5V"
      },
      "execution_count": null,
      "outputs": []
    },
    {
      "cell_type": "code",
      "source": [],
      "metadata": {
        "id": "rBzUyp6cvPzX"
      },
      "execution_count": null,
      "outputs": []
    }
  ]
}